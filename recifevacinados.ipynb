{
 "cells": [
  {
   "cell_type": "code",
   "execution_count": null,
   "metadata": {},
   "outputs": [],
   "source": [
    "import matplotlib.pyplot as plt\n",
    "import pandas as pd\n",
    "import numpy as np"
   ]
  },
  {
   "cell_type": "code",
   "execution_count": null,
   "metadata": {},
   "outputs": [],
   "source": [
    "plt.style.use('tableau-colorblind10')"
   ]
  },
  {
   "cell_type": "markdown",
   "metadata": {},
   "source": [
    "## Carregando dataset"
   ]
  },
  {
   "cell_type": "code",
   "execution_count": null,
   "metadata": {},
   "outputs": [],
   "source": [
    "f = open('C:/Users/acer/Desktop/workspace/PYTHON/Recife/vacinados.csv', 'r', encoding=\"utf8\")"
   ]
  },
  {
   "cell_type": "code",
   "execution_count": null,
   "metadata": {},
   "outputs": [],
   "source": [
    "data = f.read()"
   ]
  },
  {
   "cell_type": "code",
   "execution_count": null,
   "metadata": {},
   "outputs": [],
   "source": [
    "rows = data.split('\\n')"
   ]
  },
  {
   "cell_type": "code",
   "execution_count": null,
   "metadata": {},
   "outputs": [],
   "source": [
    "print(rows)"
   ]
  },
  {
   "cell_type": "code",
   "execution_count": null,
   "metadata": {},
   "outputs": [],
   "source": [
    "full_data = []"
   ]
  },
  {
   "cell_type": "code",
   "execution_count": null,
   "metadata": {},
   "outputs": [],
   "source": [
    "for row in rows:\n",
    "    split_row = row.split(\";\")\n",
    "    full_data.append(split_row)"
   ]
  },
  {
   "cell_type": "code",
   "execution_count": null,
   "metadata": {
    "scrolled": false
   },
   "outputs": [],
   "source": [
    "print(full_data)"
   ]
  },
  {
   "cell_type": "markdown",
   "metadata": {},
   "source": [
    "## Contando as linhas do arquivo."
   ]
  },
  {
   "cell_type": "code",
   "execution_count": null,
   "metadata": {},
   "outputs": [],
   "source": [
    "f = open('C:/Users/acer/Desktop/workspace/PYTHON/Recife/vacinados.csv', 'r', encoding=\"utf8\")"
   ]
  },
  {
   "cell_type": "code",
   "execution_count": null,
   "metadata": {},
   "outputs": [],
   "source": [
    "data = f.read()"
   ]
  },
  {
   "cell_type": "code",
   "execution_count": null,
   "metadata": {},
   "outputs": [],
   "source": [
    "rows = data.split('\\n')"
   ]
  },
  {
   "cell_type": "code",
   "execution_count": null,
   "metadata": {},
   "outputs": [],
   "source": [
    "full_data = []"
   ]
  },
  {
   "cell_type": "code",
   "execution_count": null,
   "metadata": {},
   "outputs": [],
   "source": [
    "for row in rows:\n",
    "    split_row = row.split(\";\")\n",
    "    full_data.append(split_row)"
   ]
  },
  {
   "cell_type": "code",
   "execution_count": null,
   "metadata": {},
   "outputs": [],
   "source": [
    "count = 0\n",
    "for row in full_data:\n",
    "    count += 1"
   ]
  },
  {
   "cell_type": "code",
   "execution_count": null,
   "metadata": {
    "scrolled": true
   },
   "outputs": [],
   "source": [
    "print(count)"
   ]
  },
  {
   "cell_type": "markdown",
   "metadata": {},
   "source": [
    "## Contando colunas do arquivo."
   ]
  },
  {
   "cell_type": "code",
   "execution_count": null,
   "metadata": {},
   "outputs": [],
   "source": [
    "f = open('C:/Users/acer/Desktop/workspace/PYTHON/Recife/vacinados.csv', 'r', encoding=\"utf8\")\n",
    "data = f.read()\n",
    "rows = data.split('\\n')\n",
    "full_data = []"
   ]
  },
  {
   "cell_type": "code",
   "execution_count": null,
   "metadata": {},
   "outputs": [],
   "source": [
    "for row in rows:\n",
    "    split_row = row.split(\";\")\n",
    "    full_data.append(split_row)\n",
    "    first_row = full_data[0]\n",
    "count = 0"
   ]
  },
  {
   "cell_type": "code",
   "execution_count": null,
   "metadata": {},
   "outputs": [],
   "source": [
    "for column in first_row:\n",
    "    count = count + 1"
   ]
  },
  {
   "cell_type": "code",
   "execution_count": null,
   "metadata": {},
   "outputs": [],
   "source": [
    "print(count)"
   ]
  },
  {
   "cell_type": "markdown",
   "metadata": {},
   "source": [
    "## Carregando arquivo com pandas"
   ]
  },
  {
   "cell_type": "code",
   "execution_count": 88,
   "metadata": {},
   "outputs": [],
   "source": [
    "import pandas as pd"
   ]
  },
  {
   "cell_type": "code",
   "execution_count": 89,
   "metadata": {},
   "outputs": [],
   "source": [
    "file1 = \"C:/Users/acer/Desktop/workspace/PYTHON/Recife/vacinados.csv\""
   ]
  },
  {
   "cell_type": "code",
   "execution_count": 90,
   "metadata": {
    "scrolled": true
   },
   "outputs": [],
   "source": [
    "df = pd.read_csv(\"vacinados.csv\", engine=\"python\", sep=';', quotechar='\"', error_bad_lines=False)"
   ]
  },
  {
   "cell_type": "code",
   "execution_count": 91,
   "metadata": {
    "scrolled": true
   },
   "outputs": [
    {
     "data": {
      "text/html": [
       "<div>\n",
       "<style scoped>\n",
       "    .dataframe tbody tr th:only-of-type {\n",
       "        vertical-align: middle;\n",
       "    }\n",
       "\n",
       "    .dataframe tbody tr th {\n",
       "        vertical-align: top;\n",
       "    }\n",
       "\n",
       "    .dataframe thead th {\n",
       "        text-align: right;\n",
       "    }\n",
       "</style>\n",
       "<table border=\"1\" class=\"dataframe\">\n",
       "  <thead>\n",
       "    <tr style=\"text-align: right;\">\n",
       "      <th></th>\n",
       "      <th>ï»¿nome</th>\n",
       "      <th>grupo</th>\n",
       "      <th>vacina</th>\n",
       "      <th>lote</th>\n",
       "      <th>dose</th>\n",
       "      <th>data_vacinacao</th>\n",
       "      <th>local_vacinacao</th>\n",
       "    </tr>\n",
       "  </thead>\n",
       "  <tbody>\n",
       "    <tr>\n",
       "      <th>0</th>\n",
       "      <td>A MARA SANTINA DA CONCEIÃ‡ÃƒO</td>\n",
       "      <td>PESSOAS DE 85 ANOS OU MAIS</td>\n",
       "      <td>2- CHADOX1NCOV-19 - OXFORD/ASTRAZENECA (FIOCRUZ)</td>\n",
       "      <td>4120Z005</td>\n",
       "      <td>1</td>\n",
       "      <td>29/01/2021</td>\n",
       "      <td>CENTRO DE VACINAÃ‡ÃƒO COMPAZ DOM HELDER CÃ‚MARA</td>\n",
       "    </tr>\n",
       "    <tr>\n",
       "      <th>1</th>\n",
       "      <td>A MARINA NUNES DA SILVA</td>\n",
       "      <td>PESSOAS DE 75 A 79 ANOS</td>\n",
       "      <td>1- CORONAVAC - SINOVAC (BUTANTAN)</td>\n",
       "      <td>210043</td>\n",
       "      <td>1</td>\n",
       "      <td>04/03/2021</td>\n",
       "      <td>DRIVE THRU GERALDÃƒO</td>\n",
       "    </tr>\n",
       "    <tr>\n",
       "      <th>2</th>\n",
       "      <td>AAMANDA MARIA FREIRE DA SILVA</td>\n",
       "      <td>TRABALHADORES DE SAÃšDE (GRUPO 3)</td>\n",
       "      <td>1- CORONAVAC - SINOVAC (BUTANTAN)</td>\n",
       "      <td>210016</td>\n",
       "      <td>1</td>\n",
       "      <td>11/02/2021</td>\n",
       "      <td>CENTRO DE VACINAÃ‡ÃƒO COMPAZ MIGUEL ARRAES</td>\n",
       "    </tr>\n",
       "    <tr>\n",
       "      <th>3</th>\n",
       "      <td>AAMANDA MARIA FREIRE DA SILVA</td>\n",
       "      <td>TRABALHADORES DE SAÃšDE (GRUPO 3)</td>\n",
       "      <td>1- CORONAVAC - SINOVAC (BUTANTAN)</td>\n",
       "      <td>210043</td>\n",
       "      <td>2</td>\n",
       "      <td>04/03/2021</td>\n",
       "      <td>CENTRO DE VACINAÃ‡ÃƒO PARQUE DE EXPOSIÃ‡ÃƒO</td>\n",
       "    </tr>\n",
       "    <tr>\n",
       "      <th>4</th>\n",
       "      <td>AANTONIO DE MELO LIMA</td>\n",
       "      <td>PESSOAS DE 75 A 79 ANOS</td>\n",
       "      <td>1- CORONAVAC - SINOVAC (BUTANTAN)</td>\n",
       "      <td>202009014</td>\n",
       "      <td>1</td>\n",
       "      <td>10/03/2021</td>\n",
       "      <td>CENTRO DE VACINAÃ‡ÃƒO  COMPAZ ARIANO SUASSUNA</td>\n",
       "    </tr>\n",
       "  </tbody>\n",
       "</table>\n",
       "</div>"
      ],
      "text/plain": [
       "                         ï»¿nome                              grupo  \\\n",
       "0  A MARA SANTINA DA CONCEIÃ‡ÃƒO         PESSOAS DE 85 ANOS OU MAIS   \n",
       "1        A MARINA NUNES DA SILVA            PESSOAS DE 75 A 79 ANOS   \n",
       "2  AAMANDA MARIA FREIRE DA SILVA  TRABALHADORES DE SAÃšDE (GRUPO 3)   \n",
       "3  AAMANDA MARIA FREIRE DA SILVA  TRABALHADORES DE SAÃšDE (GRUPO 3)   \n",
       "4          AANTONIO DE MELO LIMA            PESSOAS DE 75 A 79 ANOS   \n",
       "\n",
       "                                             vacina       lote  dose  \\\n",
       "0  2- CHADOX1NCOV-19 - OXFORD/ASTRAZENECA (FIOCRUZ)   4120Z005     1   \n",
       "1                 1- CORONAVAC - SINOVAC (BUTANTAN)     210043     1   \n",
       "2                 1- CORONAVAC - SINOVAC (BUTANTAN)     210016     1   \n",
       "3                 1- CORONAVAC - SINOVAC (BUTANTAN)     210043     2   \n",
       "4                 1- CORONAVAC - SINOVAC (BUTANTAN)  202009014     1   \n",
       "\n",
       "  data_vacinacao                                  local_vacinacao  \n",
       "0     29/01/2021  CENTRO DE VACINAÃ‡ÃƒO COMPAZ DOM HELDER CÃ‚MARA  \n",
       "1     04/03/2021                             DRIVE THRU GERALDÃƒO  \n",
       "2     11/02/2021       CENTRO DE VACINAÃ‡ÃƒO COMPAZ MIGUEL ARRAES  \n",
       "3     04/03/2021      CENTRO DE VACINAÃ‡ÃƒO PARQUE DE EXPOSIÃ‡ÃƒO  \n",
       "4     10/03/2021    CENTRO DE VACINAÃ‡ÃƒO  COMPAZ ARIANO SUASSUNA  "
      ]
     },
     "execution_count": 91,
     "metadata": {},
     "output_type": "execute_result"
    }
   ],
   "source": [
    "df.head()"
   ]
  },
  {
   "cell_type": "code",
   "execution_count": null,
   "metadata": {},
   "outputs": [],
   "source": []
  }
 ],
 "metadata": {
  "kernelspec": {
   "display_name": "Python 3",
   "language": "python",
   "name": "python3"
  },
  "language_info": {
   "codemirror_mode": {
    "name": "ipython",
    "version": 3
   },
   "file_extension": ".py",
   "mimetype": "text/x-python",
   "name": "python",
   "nbconvert_exporter": "python",
   "pygments_lexer": "ipython3",
   "version": "3.8.5"
  }
 },
 "nbformat": 4,
 "nbformat_minor": 4
}
